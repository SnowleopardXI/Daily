{
 "cells": [
  {
   "cell_type": "code",
   "execution_count": 4,
   "metadata": {},
   "outputs": [],
   "source": [
    "import numpy as np\n",
    "import random"
   ]
  },
  {
   "cell_type": "code",
   "execution_count": 3,
   "metadata": {},
   "outputs": [
    {
     "name": "stdout",
     "output_type": "stream",
     "text": [
      "标准型监督矩阵H：\n",
      " [[0 1 1 1 1 0 0]\n",
      " [1 1 0 1 0 1 0]\n",
      " [1 1 1 0 0 0 1]]\n",
      "标准生成矩阵G:\n",
      " [[1 0 0 0 0 1 1]\n",
      " [0 1 0 0 1 1 1]\n",
      " [0 0 1 0 1 0 1]\n",
      " [0 0 0 1 1 1 0]]\n"
     ]
    },
    {
     "data": {
      "text/plain": [
       "array([[1, 0, 0, 0, 0, 1, 1],\n",
       "       [0, 1, 0, 0, 1, 1, 1],\n",
       "       [0, 0, 1, 0, 1, 0, 1],\n",
       "       [0, 0, 0, 1, 1, 1, 0]])"
      ]
     },
     "execution_count": 3,
     "metadata": {},
     "output_type": "execute_result"
    }
   ],
   "source": [
    "def hannim(n,k,d):\n",
    "    r=n-k\n",
    "    p = np.zeros((1,r ),dtype = int)\n",
    "    a = []\n",
    "    b = []\n",
    "    for i in range(1,2**r):\n",
    "        p = np.zeros((1,r ),dtype = int)\n",
    "        m = i\n",
    "        q = 0\n",
    "        for j in range(r):\n",
    "            p[0,r-1-j] = m%2\n",
    "            if  m%2 == 1:\n",
    "                q += 1\n",
    "            m = m // 2 \n",
    "        if q == 0:\n",
    "            continue\n",
    "        elif q == 1:\n",
    "            a.append(p)\n",
    "\n",
    "        elif q != 1:\n",
    "            b.append(p)\n",
    "    a.reverse()\n",
    "    random.shuffle(b)\n",
    "    a = b+a\n",
    "    \n",
    "    \n",
    "    c = a[0] \n",
    "    tp = 0\n",
    "    for i in a:\n",
    "        tp += 1\n",
    "        if tp != 1:\n",
    "            c = np.concatenate([c, i], axis=0) \n",
    "    \n",
    "    print(\"标准型监督矩阵H：\\n\",c.T)\n",
    "    c = b[0] \n",
    "    tp = 0\n",
    "    for i in b:\n",
    "        tp += 1\n",
    "        if tp != 1:\n",
    "            c = np.concatenate([c, i], axis=0) \n",
    "    \n",
    "    m = np.zeros((len(c),len(c)),dtype = int)\n",
    "    for i in range(len(c)):\n",
    "        m[i][i]=1\n",
    "    g = np.hstack((m,c))\n",
    "    print(\"标准生成矩阵G:\\n\",g)\n",
    "    return g\n",
    "\n",
    "hannim(7,4,3)"
   ]
  }
 ],
 "metadata": {
  "kernelspec": {
   "display_name": "Python 3",
   "language": "python",
   "name": "python3"
  },
  "language_info": {
   "codemirror_mode": {
    "name": "ipython",
    "version": 3
   },
   "file_extension": ".py",
   "mimetype": "text/x-python",
   "name": "python",
   "nbconvert_exporter": "python",
   "pygments_lexer": "ipython3",
   "version": "3.12.0"
  }
 },
 "nbformat": 4,
 "nbformat_minor": 2
}
